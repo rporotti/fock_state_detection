{
 "cells": [
  {
   "cell_type": "code",
   "execution_count": 2,
   "metadata": {
    "ExecuteTime": {
     "end_time": "2021-06-21T13:28:00.784424Z",
     "start_time": "2021-06-21T13:28:00.702260Z"
    }
   },
   "outputs": [
    {
     "name": "stdout",
     "output_type": "stream",
     "text": [
      "The autoreload extension is already loaded. To reload it, use:\n",
      "  %reload_ext autoreload\n"
     ]
    }
   ],
   "source": [
    "%load_ext autoreload\n",
    "%autoreload 2\n",
    "%matplotlib inline\n",
    "\n",
    "from tqdm import tqdm\n",
    "import os,sys,inspect\n",
    "currentdir = os.path.dirname(os.path.abspath(inspect.getfile(inspect.currentframe())))\n",
    "parentdir = os.path.dirname(currentdir)\n",
    "sys.path.insert(0,parentdir) \n",
    "\n",
    "\n",
    "from stable_baselines import PPO2\n",
    "from codes.environment.multichannel import SimpleCavityEnv\n",
    "from stable_baselines.common.vec_env import SubprocVecEnv\n",
    "import numpy as np\n",
    "import qutip as qt\n",
    "import matplotlib\n",
    "import matplotlib.pyplot as plt\n",
    "from codes.functions.check_policy import load_info\n",
    "import os\n",
    "import json\n",
    "import warnings\n",
    "warnings.filterwarnings('ignore', category=FutureWarning)\n",
    "warnings.filterwarnings('ignore', category=DeprecationWarning)\n",
    "import os\n",
    "from mpl_toolkits.axes_grid1.inset_locator import mark_inset, inset_axes, InsetPosition, BboxPatch, BboxConnector\n",
    "os.environ['TF_CPP_MIN_LOG_LEVEL'] = '3'\n",
    "os.environ['KMP_DUPLICATE_LIB_OK']='True'\n",
    "from tensorflow.python.util import deprecation\n",
    "deprecation._PRINT_DEPRECATION_WARNINGS = False\n",
    "import tensorflow as tf\n",
    "tf.compat.v1.logging.set_verbosity(tf.compat.v1.logging.ERROR)\n",
    "plt.rcParams.update({'font.size': 10})\n",
    "plt.rcParams.update({'figure.dpi': 150})\n",
    "import seaborn as sns\n",
    "def make_env(args, i):\n",
    "    def _init():\n",
    "        env = SimpleCavityEnv(args, counter=i,testing=True)\n",
    "        return env\n",
    "    return _init\n",
    "\n",
    "import matplotlib\n",
    "matplotlib.use('module://ipykernel.pylab.backend_inline')"
   ]
  },
  {
   "cell_type": "code",
   "execution_count": null,
   "metadata": {},
   "outputs": [],
   "source": []
  },
  {
   "cell_type": "code",
   "execution_count": 3,
   "metadata": {
    "ExecuteTime": {
     "end_time": "2021-06-21T13:28:09.747905Z",
     "start_time": "2021-06-21T13:28:03.600685Z"
    }
   },
   "outputs": [
    {
     "name": "stdout",
     "output_type": "stream",
     "text": [
      "Loading a model without an environment, this model cannot be trained until it has a valid environment.\n",
      "Loading a model without an environment, this model cannot be trained until it has a valid environment.\n",
      "Loading a model without an environment, this model cannot be trained until it has a valid environment.\n",
      "Loading a model without an environment, this model cannot be trained until it has a valid environment.\n",
      "Loading a model without an environment, this model cannot be trained until it has a valid environment.\n",
      "Loading a model without an environment, this model cannot be trained until it has a valid environment.\n",
      "Loading a model without an environment, this model cannot be trained until it has a valid environment.\n"
     ]
    },
    {
     "ename": "FileNotFoundError",
     "evalue": "[Errno 2] No such file or directory: 'data/summaries_focks.npy'",
     "output_type": "error",
     "traceback": [
      "\u001b[0;31m---------------------------------------------------------------------------\u001b[0m",
      "\u001b[0;31mFileNotFoundError\u001b[0m                         Traceback (most recent call last)",
      "\u001b[0;32m/tmp/ipykernel_23525/347283008.py\u001b[0m in \u001b[0;36m<module>\u001b[0;34m\u001b[0m\n\u001b[1;32m     15\u001b[0m         \u001b[0msummaries\u001b[0m\u001b[0;34m[\u001b[0m\u001b[0mindex\u001b[0m\u001b[0;34m]\u001b[0m\u001b[0;34m=\u001b[0m\u001b[0mnp\u001b[0m\u001b[0;34m.\u001b[0m\u001b[0mload\u001b[0m\u001b[0;34m(\u001b[0m\u001b[0mfolder\u001b[0m\u001b[0;34m+\u001b[0m\u001b[0;34m\"/summaries/summary_training_\"\u001b[0m\u001b[0;34m+\u001b[0m\u001b[0mstr\u001b[0m\u001b[0;34m(\u001b[0m\u001b[0mindex\u001b[0m\u001b[0;34m)\u001b[0m\u001b[0;34m+\u001b[0m \u001b[0;34m\".npy\"\u001b[0m\u001b[0;34m,\u001b[0m\u001b[0mallow_pickle\u001b[0m\u001b[0;34m=\u001b[0m\u001b[0;32mTrue\u001b[0m\u001b[0;34m)\u001b[0m\u001b[0;34m.\u001b[0m\u001b[0mitem\u001b[0m\u001b[0;34m(\u001b[0m\u001b[0;34m)\u001b[0m\u001b[0;34m\u001b[0m\u001b[0;34m\u001b[0m\u001b[0m\n\u001b[1;32m     16\u001b[0m \u001b[0;34m\u001b[0m\u001b[0m\n\u001b[0;32m---> 17\u001b[0;31m \u001b[0mnp\u001b[0m\u001b[0;34m.\u001b[0m\u001b[0msave\u001b[0m\u001b[0;34m(\u001b[0m\u001b[0;34m\"data/summaries_focks.npy\"\u001b[0m\u001b[0;34m,\u001b[0m \u001b[0msummaries\u001b[0m\u001b[0;34m)\u001b[0m\u001b[0;34m\u001b[0m\u001b[0;34m\u001b[0m\u001b[0m\n\u001b[0m\u001b[1;32m     18\u001b[0m \u001b[0;34m\u001b[0m\u001b[0m\n",
      "\u001b[0;32m<__array_function__ internals>\u001b[0m in \u001b[0;36msave\u001b[0;34m(*args, **kwargs)\u001b[0m\n",
      "\u001b[0;32m~/.local/lib/python3.7/site-packages/numpy/lib/npyio.py\u001b[0m in \u001b[0;36msave\u001b[0;34m(file, arr, allow_pickle, fix_imports)\u001b[0m\n\u001b[1;32m    522\u001b[0m         \u001b[0;32mif\u001b[0m \u001b[0;32mnot\u001b[0m \u001b[0mfile\u001b[0m\u001b[0;34m.\u001b[0m\u001b[0mendswith\u001b[0m\u001b[0;34m(\u001b[0m\u001b[0;34m'.npy'\u001b[0m\u001b[0;34m)\u001b[0m\u001b[0;34m:\u001b[0m\u001b[0;34m\u001b[0m\u001b[0;34m\u001b[0m\u001b[0m\n\u001b[1;32m    523\u001b[0m             \u001b[0mfile\u001b[0m \u001b[0;34m=\u001b[0m \u001b[0mfile\u001b[0m \u001b[0;34m+\u001b[0m \u001b[0;34m'.npy'\u001b[0m\u001b[0;34m\u001b[0m\u001b[0;34m\u001b[0m\u001b[0m\n\u001b[0;32m--> 524\u001b[0;31m         \u001b[0mfile_ctx\u001b[0m \u001b[0;34m=\u001b[0m \u001b[0mopen\u001b[0m\u001b[0;34m(\u001b[0m\u001b[0mfile\u001b[0m\u001b[0;34m,\u001b[0m \u001b[0;34m\"wb\"\u001b[0m\u001b[0;34m)\u001b[0m\u001b[0;34m\u001b[0m\u001b[0;34m\u001b[0m\u001b[0m\n\u001b[0m\u001b[1;32m    525\u001b[0m \u001b[0;34m\u001b[0m\u001b[0m\n\u001b[1;32m    526\u001b[0m     \u001b[0;32mwith\u001b[0m \u001b[0mfile_ctx\u001b[0m \u001b[0;32mas\u001b[0m \u001b[0mfid\u001b[0m\u001b[0;34m:\u001b[0m\u001b[0;34m\u001b[0m\u001b[0;34m\u001b[0m\u001b[0m\n",
      "\u001b[0;31mFileNotFoundError\u001b[0m: [Errno 2] No such file or directory: 'data/summaries_focks.npy'"
     ]
    }
   ],
   "source": [
    "folder=\"training/2021-03-02_fock_new_v8\"\n",
    "\n",
    "num_subfolders=len([x for x in sorted(os.listdir(folder))[2:] if \"\"in x  ])\n",
    "models=np.zeros((num_subfolders), dtype=object)\n",
    "args=np.zeros((num_subfolders), dtype=object)\n",
    "summaries=np.zeros((num_subfolders), dtype=object)\n",
    "\n",
    "for index in range(num_subfolders):\n",
    "    direc=folder+\"/training_\"+str(index)\n",
    "    args[index] = load_info(direc, print=False)\n",
    "    args[index][\"t_mean\"]=10\n",
    "    last_model=\"rl_model_\"+ str(sorted([int(x.split(\"_\")[2]) for x in os.listdir(direc+\"/model\")])[30])+\"_steps\"\n",
    "    models[index]=PPO2.load(direc+\"/model/\"+last_model)\n",
    "    if os.path.isfile(folder+\"/summaries/summary_training_0.npy\"):\n",
    "        summaries[index]=np.load(folder+\"/summaries/summary_training_\"+str(index)+ \".npy\",allow_pickle=True).item()\n",
    "        \n",
    "np.save(\"data/summaries_focks.npy\", summaries)        \n",
    "    "
   ]
  },
  {
   "cell_type": "code",
   "execution_count": null,
   "metadata": {
    "ExecuteTime": {
     "end_time": "2021-06-21T13:28:10.809811Z",
     "start_time": "2021-06-21T13:28:10.754365Z"
    }
   },
   "outputs": [],
   "source": [
    "ntraj=100\n",
    "direc = folder+\"/training_0\"\n",
    "args[0] = load_info(direc, print=False)\n",
    "\n",
    "\n",
    "args[0]"
   ]
  },
  {
   "cell_type": "code",
   "execution_count": 4,
   "metadata": {
    "ExecuteTime": {
     "start_time": "2021-05-18T10:03:28.803Z"
    }
   },
   "outputs": [
    {
     "name": "stdout",
     "output_type": "stream",
     "text": [
      "0\n"
     ]
    },
    {
     "name": "stderr",
     "output_type": "stream",
     "text": [
      "100%|██████████| 2500/2500 [04:34<00:00,  9.10it/s]\n"
     ]
    },
    {
     "name": "stdout",
     "output_type": "stream",
     "text": [
      "1\n"
     ]
    },
    {
     "name": "stderr",
     "output_type": "stream",
     "text": [
      "100%|██████████| 2500/2500 [04:41<00:00,  8.89it/s]\n"
     ]
    },
    {
     "name": "stdout",
     "output_type": "stream",
     "text": [
      "2\n"
     ]
    },
    {
     "name": "stderr",
     "output_type": "stream",
     "text": [
      "100%|██████████| 2500/2500 [04:53<00:00,  8.51it/s]\n"
     ]
    },
    {
     "name": "stdout",
     "output_type": "stream",
     "text": [
      "3\n"
     ]
    },
    {
     "name": "stderr",
     "output_type": "stream",
     "text": [
      "100%|██████████| 2500/2500 [04:59<00:00,  8.35it/s]\n"
     ]
    },
    {
     "name": "stdout",
     "output_type": "stream",
     "text": [
      "4\n"
     ]
    },
    {
     "name": "stderr",
     "output_type": "stream",
     "text": [
      "100%|██████████| 2500/2500 [04:51<00:00,  8.58it/s]\n"
     ]
    },
    {
     "name": "stdout",
     "output_type": "stream",
     "text": [
      "5\n"
     ]
    },
    {
     "name": "stderr",
     "output_type": "stream",
     "text": [
      "100%|██████████| 2500/2500 [04:32<00:00,  9.17it/s]\n"
     ]
    },
    {
     "name": "stdout",
     "output_type": "stream",
     "text": [
      "6\n"
     ]
    },
    {
     "name": "stderr",
     "output_type": "stream",
     "text": [
      "100%|██████████| 2500/2500 [04:51<00:00,  8.57it/s]\n"
     ]
    }
   ],
   "source": [
    "ntraj=100\n",
    "direc = folder+\"/training_0\"\n",
    "args[0] = load_info(direc, print=False)\n",
    "args[0][\"t_mean\"]=10\n",
    "args[0][\"T_max\"]=args[index][\"T_max\"]*5\n",
    "args[0][\"timesteps\"]=args[index][\"timesteps\"]*5\n",
    "args[0][\"multiplier\"]=args[index][\"multiplier\"]*5\n",
    "\n",
    "env = SubprocVecEnv([make_env(args[0], i) for i in range(ntraj)], start_method=\"fork\")\n",
    "timesteps=env.get_attr(\"T\")[0]\n",
    "Nstates=env.get_attr(\"Nstates\")[0]\n",
    "substeps=env.get_attr(\"numberPhysicsMicroSteps\")[0]\n",
    "num_actions=env.get_attr(\"num_actions\")[0]\n",
    "\n",
    "\n",
    "rhos=np.zeros((num_subfolders,ntraj, timesteps, Nstates, Nstates),dtype=\"complex\")\n",
    "probabilities=np.zeros((num_subfolders,ntraj,Nstates,timesteps*substeps))\n",
    "actions=np.zeros((num_subfolders,ntraj,num_actions,timesteps))\n",
    "fidelities=np.zeros((num_subfolders,ntraj,timesteps))\n",
    "env.close()\n",
    "\n",
    "\n",
    "for index, model in enumerate(models):\n",
    "    direc = folder+\"/training_\"+str(index)\n",
    "    args[index] = load_info(direc, print=False)\n",
    "    args[index][\"t_mean\"]=10\n",
    "    args[index][\"T_max\"]=args[index][\"T_max\"]*5\n",
    "    args[index][\"timesteps\"]=args[index][\"timesteps\"]*5\n",
    "    args[index][\"multiplier\"]=args[index][\"multiplier\"]*5\n",
    "    \n",
    "    \n",
    "    \n",
    "    env = SubprocVecEnv([make_env(args[index], i) for i in range(ntraj)], start_method=\"fork\")\n",
    "    \n",
    "    \n",
    "    \n",
    "    \n",
    "    timesteps=env.get_attr(\"T\")[0]\n",
    "    Nstates=env.get_attr(\"Nstates\")[0]\n",
    "    substeps=env.get_attr(\"numberPhysicsMicroSteps\")[0]\n",
    "    num_actions=env.get_attr(\"num_actions\")[0]\n",
    "    \n",
    "    \n",
    "\n",
    "    \n",
    "    \n",
    "    print(index)\n",
    "    obs=env.reset()\n",
    "    for i in tqdm(range(args[index][\"timesteps\"])):\n",
    "        action=models[index].predict(obs, deterministic=True)\n",
    "        rhos[index, :, i]=env.get_attr(\"Rho\")\n",
    "        obs, r, done, _ =env.step(action[0])\n",
    "\n",
    "\n",
    "    probabilities[index]=np.array(env.get_attr(\"probabilities\"))\n",
    "    actions[index]=np.array(env.get_attr(\"actions_plot\"))\n",
    "    fidelities[index]=np.array(env.get_attr(\"fidelities\"))\n",
    "    env.close()\n",
    "    #print(np.mean(fidelities[index, :, -1], axis=0))\n",
    "\n",
    "    \n",
    "np.save(\"data/rhos_focks.npy\", rhos)\n",
    "np.save(\"data/probabilities_focks.npy\", probabilities)\n",
    "np.save(\"data/actions_focks.npy\", actions)\n",
    "np.save(\"data/fidelities_focks.npy\", fidelities)\n"
   ]
  },
  {
   "cell_type": "code",
   "execution_count": 5,
   "metadata": {},
   "outputs": [
    {
     "name": "stdout",
     "output_type": "stream",
     "text": [
      "Loading a model without an environment, this model cannot be trained until it has a valid environment.\n",
      "Loading a model without an environment, this model cannot be trained until it has a valid environment.\n",
      "Loading a model without an environment, this model cannot be trained until it has a valid environment.\n",
      "Loading a model without an environment, this model cannot be trained until it has a valid environment.\n",
      "Loading a model without an environment, this model cannot be trained until it has a valid environment.\n",
      "Loading a model without an environment, this model cannot be trained until it has a valid environment.\n",
      "Loading a model without an environment, this model cannot be trained until it has a valid environment.\n",
      "Loading a model without an environment, this model cannot be trained until it has a valid environment.\n",
      "Loading a model without an environment, this model cannot be trained until it has a valid environment.\n",
      "Loading a model without an environment, this model cannot be trained until it has a valid environment.\n",
      "Loading a model without an environment, this model cannot be trained until it has a valid environment.\n"
     ]
    }
   ],
   "source": [
    "folder=\"training/2021-03-02_fock_3_multiple\"\n",
    "\n",
    "num_subfolders=len([x for x in sorted(os.listdir(folder))[2:] if \"\"in x  ])\n",
    "models_fock3=np.zeros((num_subfolders), dtype=object)\n",
    "args_fock3=np.zeros((num_subfolders), dtype=object)\n",
    "summaries_fock3=np.zeros((num_subfolders), dtype=object)\n",
    "\n",
    "for index in range(num_subfolders):\n",
    "    direc=folder+\"/training_\"+str(index)\n",
    "    args_fock3[index] = load_info(direc, print=False)\n",
    "    args_fock3[index][\"t_mean\"]=10\n",
    "    last_model=\"rl_model_\"+ str(sorted([int(x.split(\"_\")[2]) for x in os.listdir(direc+\"/model\")])[-1])+\"_steps\"\n",
    "    models_fock3[index]=PPO2.load(direc+\"/model/\"+last_model)\n",
    "    summaries_fock3[index]=np.load(folder+\"/summaries/summary_training_\"+str(index)+ \".npy\",allow_pickle=True).item()\n",
    " \n",
    "np.save(\"data/summaries_fock3.npy\", summaries_fock3)\n"
   ]
  },
  {
   "cell_type": "code",
   "execution_count": null,
   "metadata": {},
   "outputs": [],
   "source": []
  }
 ],
 "metadata": {
  "kernelspec": {
   "display_name": "conda_env",
   "language": "python",
   "name": "conda_env"
  },
  "language_info": {
   "codemirror_mode": {
    "name": "ipython",
    "version": 3
   },
   "file_extension": ".py",
   "mimetype": "text/x-python",
   "name": "python",
   "nbconvert_exporter": "python",
   "pygments_lexer": "ipython3",
   "version": "3.7.9"
  },
  "latex_envs": {
   "LaTeX_envs_menu_present": true,
   "autoclose": false,
   "autocomplete": true,
   "bibliofile": "biblio.bib",
   "cite_by": "apalike",
   "current_citInitial": 1,
   "eqLabelWithNumbers": true,
   "eqNumInitial": 1,
   "hotkeys": {
    "equation": "Ctrl-E",
    "itemize": "Ctrl-I"
   },
   "labels_anchors": false,
   "latex_user_defs": false,
   "report_style_numbering": false,
   "user_envs_cfg": false
  },
  "toc": {
   "base_numbering": 1,
   "nav_menu": {},
   "number_sections": true,
   "sideBar": true,
   "skip_h1_title": false,
   "title_cell": "Table of Contents",
   "title_sidebar": "Contents",
   "toc_cell": false,
   "toc_position": {},
   "toc_section_display": true,
   "toc_window_display": false
  },
  "varInspector": {
   "cols": {
    "lenName": 16,
    "lenType": 16,
    "lenVar": 40
   },
   "kernels_config": {
    "python": {
     "delete_cmd_postfix": "",
     "delete_cmd_prefix": "del ",
     "library": "var_list.py",
     "varRefreshCmd": "print(var_dic_list())"
    },
    "r": {
     "delete_cmd_postfix": ") ",
     "delete_cmd_prefix": "rm(",
     "library": "var_list.r",
     "varRefreshCmd": "cat(var_dic_list()) "
    }
   },
   "types_to_exclude": [
    "module",
    "function",
    "builtin_function_or_method",
    "instance",
    "_Feature"
   ],
   "window_display": false
  }
 },
 "nbformat": 4,
 "nbformat_minor": 4
}
