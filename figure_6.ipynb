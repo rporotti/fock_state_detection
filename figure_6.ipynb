{
 "cells": [
  {
   "cell_type": "code",
   "execution_count": 1,
   "metadata": {
    "ExecuteTime": {
     "end_time": "2021-07-23T15:12:24.146700Z",
     "start_time": "2021-07-23T15:12:24.067985Z"
    }
   },
   "outputs": [
    {
     "name": "stderr",
     "output_type": "stream",
     "text": [
      "/u/pori/.local/lib/python3.7/site-packages/tensorboard/compat/tensorflow_stub/dtypes.py:541: FutureWarning: Passing (type, 1) or '1type' as a synonym of type is deprecated; in a future version of numpy, it will be understood as (type, (1,)) / '(1,)type'.\n",
      "  _np_qint8 = np.dtype([(\"qint8\", np.int8, 1)])\n",
      "/u/pori/.local/lib/python3.7/site-packages/tensorboard/compat/tensorflow_stub/dtypes.py:542: FutureWarning: Passing (type, 1) or '1type' as a synonym of type is deprecated; in a future version of numpy, it will be understood as (type, (1,)) / '(1,)type'.\n",
      "  _np_quint8 = np.dtype([(\"quint8\", np.uint8, 1)])\n",
      "/u/pori/.local/lib/python3.7/site-packages/tensorboard/compat/tensorflow_stub/dtypes.py:543: FutureWarning: Passing (type, 1) or '1type' as a synonym of type is deprecated; in a future version of numpy, it will be understood as (type, (1,)) / '(1,)type'.\n",
      "  _np_qint16 = np.dtype([(\"qint16\", np.int16, 1)])\n",
      "/u/pori/.local/lib/python3.7/site-packages/tensorboard/compat/tensorflow_stub/dtypes.py:544: FutureWarning: Passing (type, 1) or '1type' as a synonym of type is deprecated; in a future version of numpy, it will be understood as (type, (1,)) / '(1,)type'.\n",
      "  _np_quint16 = np.dtype([(\"quint16\", np.uint16, 1)])\n",
      "/u/pori/.local/lib/python3.7/site-packages/tensorboard/compat/tensorflow_stub/dtypes.py:545: FutureWarning: Passing (type, 1) or '1type' as a synonym of type is deprecated; in a future version of numpy, it will be understood as (type, (1,)) / '(1,)type'.\n",
      "  _np_qint32 = np.dtype([(\"qint32\", np.int32, 1)])\n",
      "/u/pori/.local/lib/python3.7/site-packages/tensorboard/compat/tensorflow_stub/dtypes.py:550: FutureWarning: Passing (type, 1) or '1type' as a synonym of type is deprecated; in a future version of numpy, it will be understood as (type, (1,)) / '(1,)type'.\n",
      "  np_resource = np.dtype([(\"resource\", np.ubyte, 1)])\n"
     ]
    },
    {
     "name": "stdout",
     "output_type": "stream",
     "text": [
      "WARNING:tensorflow:\n",
      "The TensorFlow contrib module will not be included in TensorFlow 2.0.\n",
      "For more information, please see:\n",
      "  * https://github.com/tensorflow/community/blob/master/rfcs/20180907-contrib-sunset.md\n",
      "  * https://github.com/tensorflow/addons\n",
      "  * https://github.com/tensorflow/io (for I/O related ops)\n",
      "If you depend on functionality not listed there, please file an issue.\n",
      "\n"
     ]
    },
    {
     "name": "stderr",
     "output_type": "stream",
     "text": [
      "/u/pori/conda-envs/conda_env/lib/python3.7/site-packages/stable_baselines/__init__.py:33: UserWarning: stable-baselines is in maintenance mode, please use [Stable-Baselines3 (SB3)](https://github.com/DLR-RM/stable-baselines3) for an up-to-date version. You can find a [migration guide](https://stable-baselines3.readthedocs.io/en/master/guide/migration.html) in SB3 documentation.\n",
      "  \"stable-baselines is in maintenance mode, please use [Stable-Baselines3 (SB3)](https://github.com/DLR-RM/stable-baselines3) for an up-to-date version. You can find a [migration guide](https://stable-baselines3.readthedocs.io/en/master/guide/migration.html) in SB3 documentation.\"\n"
     ]
    }
   ],
   "source": [
    "%load_ext autoreload\n",
    "%autoreload 2\n",
    "%matplotlib inline\n",
    "import os,sys,inspect\n",
    "currentdir = os.path.dirname(os.path.abspath(inspect.getfile(inspect.currentframe())))\n",
    "parentdir = os.path.dirname(currentdir)\n",
    "sys.path.insert(0,\"../\") \n",
    "from codes.functions.check_policy import load_info\n",
    "import numpy as np\n",
    "import qutip as qt\n",
    "import matplotlib\n",
    "import matplotlib.pyplot as plt\n",
    "from IPython.display import HTML\n",
    "from mpl_toolkits.axes_grid1.inset_locator import mark_inset, inset_axes, InsetPosition, BboxPatch, BboxConnector\n",
    "import seaborn as sns\n",
    "import matplotlib.gridspec as gridspec\n",
    "#matplotlib.use('module://ipykernel.pylab.backend_inline')\n",
    "from cycler import cycler\n",
    "import matplotlib.font_manager as fm\n",
    "import matplotlib.patheffects as path_effects\n",
    "import matplotlib\n",
    "from cycler import cycler\n",
    "from IPython.display import SVG \n",
    "import scipy\n",
    "import pandas as pd\n",
    "\n",
    "\n",
    "\n",
    "plt.style.use('seaborn') \n",
    "fontsize = 12\n",
    "\n",
    "mpl_settings = {\n",
    "    'text.usetex': False,\n",
    "    'font.family': 'sans-serif',\n",
    "    'pgf.texsystem': 'pdflatex',\n",
    "    'font.size': fontsize,\n",
    "    \n",
    "    'axes.labelsize': fontsize,               # -> axis labels\n",
    "    'legend.fontsize': fontsize,              # -> legends\n",
    "    'xtick.labelsize': fontsize,\n",
    "    'ytick.labelsize': fontsize,\n",
    "    'ytick.major.size': 3,\n",
    "    'xtick.major.size': 3,\n",
    "    'axes.linewidth': 2,\n",
    "    'axes.edgecolor': \"0.15\",\n",
    "    'figure.dpi': 300\n",
    "}\n",
    "\n",
    "\n",
    "plt.rcParams.update(mpl_settings)"
   ]
  },
  {
   "cell_type": "code",
   "execution_count": 2,
   "metadata": {
    "ExecuteTime": {
     "end_time": "2021-07-16T09:16:18.764972Z",
     "start_time": "2021-07-16T09:16:18.716111Z"
    }
   },
   "outputs": [
    {
     "data": {
      "text/plain": [
       "'/zeropoint/u/pori/conda-envs/conda_env/lib/python3.7/site-packages/matplotlib/mpl-data/fonts/ttf/DejaVuSans.ttf'"
      ]
     },
     "execution_count": 2,
     "metadata": {},
     "output_type": "execute_result"
    }
   ],
   "source": [
    "from matplotlib.font_manager import findfont, FontProperties\n",
    "font = findfont(FontProperties(family=['sans-serif']))\n",
    "font"
   ]
  },
  {
   "cell_type": "markdown",
   "metadata": {
    "ExecuteTime": {
     "end_time": "2021-06-24T08:51:09.314187Z",
     "start_time": "2021-06-24T08:51:09.255989Z"
    },
    "heading_collapsed": true
   },
   "source": [
    "# Figure 6"
   ]
  },
  {
   "cell_type": "code",
   "execution_count": 3,
   "metadata": {
    "ExecuteTime": {
     "end_time": "2021-06-24T08:51:39.415364Z",
     "start_time": "2021-06-24T08:51:30.227532Z"
    },
    "hidden": true
   },
   "outputs": [],
   "source": [
    "a = np.loadtxt(\"training/2020-10_optimal_alpha/23_10_20_optimal_analytical_solution_out_noise_v11.txt\")\n",
    "\n",
    "appo = np.zeros((len(a), 3))\n",
    "appo[:,:2] = a[:,:2]\n",
    "appo[:, 2] = a[:,2:].mean(axis=1)\n",
    "\n",
    "df = pd.DataFrame(appo, columns=[\"Decay\",\"Dephasing\",\"Prob_fin\"])\n",
    "DF = df.apply(pd.to_numeric)\n",
    "df=DF.reset_index(drop=True)\n",
    "df=df.drop_duplicates(subset=['Decay', 'Dephasing'])\n",
    "df_analytical=df.pivot('Decay', 'Dephasing', 'Prob_fin')\n",
    "\n",
    "\n",
    "folders=[\"training/2021-05-25_noise_last_v2/summaries\",\n",
    "         \"training/2021-05-26_noise_last_v2/summaries\",\n",
    "         \"training/2021-05-27_noise_last_v2/summaries\"]\n",
    "count=0\n",
    "pairs=[]\n",
    "probs_fin=[]\n",
    "for folder in folders:\n",
    "    for filename in os.listdir(folder):\n",
    "        if filename.endswith('.npy'):\n",
    "            split=(filename.split(\"_\"))\n",
    "            decay=float(split[4])\n",
    "            dephasing=float(split[5].split(\".npy\")[0])\n",
    "            summary = np.load(folder+\"/\"+filename, allow_pickle=True).item()\n",
    "            pairs.append([decay,dephasing])\n",
    "            probs_fin.append(float(np.max(summary[\"probs_final\"] ) ))\n",
    "\n",
    "            count+=1\n",
    "\n",
    "DF=pd.DataFrame(pairs,columns=[\"decay\",\"dephasing\"])\n",
    "\n",
    "DF[\"probs_fin\"]=np.array(probs_fin)\n",
    "DF = DF.apply(pd.to_numeric)\n",
    "df=DF\n",
    "\n",
    "\n",
    "df=df.drop_duplicates(subset=[\"decay\",\"dephasing\"])\n",
    "\n",
    "\n",
    "df_RL=df.pivot(\"decay\",\"dephasing\", 'probs_fin')\n",
    "\n",
    "\n",
    "X=df_analytical.columns.values\n",
    "Y=df_analytical.index.values\n",
    "Z_analytical=df_analytical.values\n",
    "\n",
    "Z_RL=df_RL.values\n",
    "Z_RL=df_RL.values\n"
   ]
  },
  {
   "cell_type": "code",
   "execution_count": 4,
   "metadata": {
    "ExecuteTime": {
     "end_time": "2021-06-24T12:03:18.693029Z",
     "start_time": "2021-06-24T12:03:17.333177Z"
    },
    "hidden": true
   },
   "outputs": [],
   "source": [
    "scale=1.5\n",
    "fig = plt.figure(figsize=(4*scale, 3*scale), dpi=300)\n",
    "main_grid = fig.add_gridspec(1, 1, wspace=0.3)\n",
    "gs1 = main_grid[0].subgridspec(2, 1, hspace=0.3)\n",
    "\n",
    "\n",
    "mpl_settings = {\n",
    "    'grid.linestyle': \"dashed\",\n",
    "    'grid.color': \"gray\",\n",
    "    'grid.alpha': 0.6\n",
    "}\n",
    "plt.rcParams.update(mpl_settings)\n",
    "\n",
    "extent=(0, 1, 0, Y[-1]/20)\n",
    "ax1= fig.add_subplot(gs1[0])\n",
    "ax2= fig.add_subplot(gs1[1])\n",
    "# ax1.imshow(Z_analytical,\n",
    "#              origin=\"lower\",\n",
    "#              extent=extent,\n",
    "#              vmin=0,\n",
    "#              vmax=1,\n",
    "#              aspect=\"auto\",\n",
    "#              cmap=\"YlOrRd\") \n",
    "\n",
    "ax1.set_ylim(0, 1.1)\n",
    "\n",
    "ax1.set_ylabel(r\"<$F(T_{\\rm max})>$\")\n",
    "w=6\n",
    "#y = np.convolve(dephasing_after[:, :, -1].mean(axis=1), np.ones(w), 'valid') / w\n",
    "y = Z_RL[0, :]\n",
    "ax1.plot(np.linspace(0, 1, len(y)), y, label=\"Dephasing\")\n",
    "ax1.hlines(max(y), 0, 40, linestyle=\"dashed\", color=\"k\")\n",
    "w=1\n",
    "#y = (np.convolve(decay_after[:, :, -1].mean(axis=1), np.ones(w), 'valid') / w)[:40]\n",
    "y = Z_RL[:, 0]\n",
    "ax1.plot(np.linspace(0,1, len(y)), y, label=\"Decay\")\n",
    "\n",
    "ax1.set_xlim(0, 1)\n",
    "#ax[1].plot(decay[:40])\n",
    "#ax[1].set_ylim(0, 1)\n",
    "ax1.legend()\n",
    "\n",
    "def deg2rad(x):\n",
    "    return x /40\n",
    "\n",
    "def rad2deg(x):\n",
    "    return x *40\n",
    "\n",
    "secax = ax1.secondary_xaxis('top', functions=(deg2rad, rad2deg))\n",
    "secax.set_xlabel(r'$\\gamma_{decay}/\\gamma_{meas}$', labelpad=10)\n",
    "secax.xaxis.set_tick_params(pad=5)\n",
    "\n",
    "\n",
    "\n",
    "\n",
    "\n",
    "im = ax2.imshow(Z_RL,\n",
    "                origin=\"lower\",\n",
    "                extent=extent,vmin=0.7,\n",
    "                vmax=1,aspect=\"auto\",\n",
    "                cmap = matplotlib.cm.get_cmap('YlOrRd_r')\n",
    "               )\n",
    "\n",
    "\n",
    "#ax[1].set_ylabel(r\"$T_{max}*max(\\alpha)$\")\n",
    "ax1.set_title(\"Greedy strategy\")\n",
    "# ax1.set_ylabel(r\"$\\gamma_{decay}$\")\n",
    "ax2.set_ylabel(r\"$\\gamma_{decay}/\\gamma_{meas}$\")\n",
    "ax2.set_xlabel(r\"$\\gamma_{depashing}/\\gamma_{meas}$\")\n",
    "ax2.yaxis.set(ticks=[0,Y[-1]/2/20,Y[-1]/20], ticklabels=[0, 0.0125, 0.025])\n",
    "# ax1.set(yticks=[0,5,10,15])\n",
    "ax1.axes.xaxis.set_ticklabels([])\n",
    "\n",
    "\n",
    "\n",
    "cbar_ax = fig.add_axes([0.95, 0.1, 0.02, 0.8])\n",
    "cbar = fig.colorbar(im, cax=cbar_ax)\n",
    "cbar.ax.set_title(\"Fidelity\", pad=20)\n",
    "#cbar.ax.invert_yaxis()\n",
    "fonts = 21\n",
    "fig.text(-0.05, 0.93, \"a\",  fontweight='bold', fontsize=fonts)\n",
    "fig.text(-0.05, 0.46, \"b\",  fontweight='bold', fontsize=fonts)\n",
    "#ax[1].set_ylabel(r\"$Average final fidelity$\")\n",
    "ax2.yaxis.set(ticklabels=[\"0.0000\", \"0.0125\", \"0.0250\"])\n",
    "\n",
    "\n",
    "\n",
    "\n",
    "\n",
    "\n",
    "fig.savefig(\"figure6.pdf\", format = \"pdf\", dpi=300, bbox_inches='tight', pad_inches=0)\n"
   ]
  },
  {
   "cell_type": "code",
   "execution_count": null,
   "metadata": {
    "hidden": true
   },
   "outputs": [],
   "source": []
  }
 ],
 "metadata": {
  "kernelspec": {
   "display_name": "conda_env",
   "language": "python",
   "name": "conda_env"
  },
  "language_info": {
   "codemirror_mode": {
    "name": "ipython",
    "version": 3
   },
   "file_extension": ".py",
   "mimetype": "text/x-python",
   "name": "python",
   "nbconvert_exporter": "python",
   "pygments_lexer": "ipython3",
   "version": "3.7.9"
  },
  "latex_envs": {
   "LaTeX_envs_menu_present": true,
   "autoclose": false,
   "autocomplete": true,
   "bibliofile": "biblio.bib",
   "cite_by": "apalike",
   "current_citInitial": 1,
   "eqLabelWithNumbers": true,
   "eqNumInitial": 1,
   "hotkeys": {
    "equation": "Ctrl-E",
    "itemize": "Ctrl-I"
   },
   "labels_anchors": false,
   "latex_user_defs": false,
   "report_style_numbering": false,
   "user_envs_cfg": false
  },
  "toc": {
   "base_numbering": 1,
   "nav_menu": {},
   "number_sections": true,
   "sideBar": true,
   "skip_h1_title": false,
   "title_cell": "Table of Contents",
   "title_sidebar": "Contents",
   "toc_cell": false,
   "toc_position": {},
   "toc_section_display": true,
   "toc_window_display": false
  },
  "varInspector": {
   "cols": {
    "lenName": 16,
    "lenType": 16,
    "lenVar": 40
   },
   "kernels_config": {
    "python": {
     "delete_cmd_postfix": "",
     "delete_cmd_prefix": "del ",
     "library": "var_list.py",
     "varRefreshCmd": "print(var_dic_list())"
    },
    "r": {
     "delete_cmd_postfix": ") ",
     "delete_cmd_prefix": "rm(",
     "library": "var_list.r",
     "varRefreshCmd": "cat(var_dic_list()) "
    }
   },
   "types_to_exclude": [
    "module",
    "function",
    "builtin_function_or_method",
    "instance",
    "_Feature"
   ],
   "window_display": false
  }
 },
 "nbformat": 4,
 "nbformat_minor": 4
}
